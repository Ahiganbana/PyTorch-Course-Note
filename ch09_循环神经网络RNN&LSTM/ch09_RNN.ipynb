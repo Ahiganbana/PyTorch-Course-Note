{
  "cells": [
    {
      "cell_type": "markdown",
      "metadata": {
        "pycharm": {}
      },
      "source": [
        "# ch09_RNN"
      ]
    },
    {
      "cell_type": "code",
      "execution_count": 1,
      "metadata": {
        "pycharm": {
          "is_executing": false
        }
      },
      "outputs": [],
      "source": [
        "import torch\n",
        "import numpy as np\n",
        "from matplotlib import pyplot as plt\n",
        "from torch import nn\n",
        "from torch import optim"
      ]
    },
    {
      "cell_type": "markdown",
      "metadata": {
        "pycharm": {}
      },
      "source": [
        "## 9.1 实践序列表示方法\n",
        "#### word2vec v.s. GloVe"
      ]
    },
    {
      "cell_type": "code",
      "execution_count": 5,
      "metadata": {
        "pycharm": {}
      },
      "outputs": [
        {
          "name": "stdout",
          "output_type": "stream",
          "text": [
            "word2vec:\n",
            "tensor([[ 1.3286, -0.3788,  0.2632,  0.4958, -0.6609]],\n",
            "       grad_fn\u003d\u003cEmbeddingBackward\u003e)\n"
          ]
        }
      ],
      "source": [
        "word_to_ix \u003d {\"hello\":0, \"world\":1}\n",
        "lookup_tensor \u003d torch.tensor([word_to_ix[\"hello\"]],dtype\u003dtorch.long)\n",
        "embeds \u003d nn.Embedding(2,5) # 2 words in vocab, 5 dimensional embeddings\n",
        "hello_embed \u003d embeds(lookup_tensor)\n",
        "print(\u0027word2vec:\u0027)\n",
        "print(hello_embed)"
      ]
    },
    {
      "cell_type": "code",
      "execution_count": 6,
      "metadata": {
        "pycharm": {}
      },
      "outputs": [],
      "source": [
        "from torchnlp.word_to_vector import GloVe"
      ]
    },
    {
      "cell_type": "code",
      "execution_count": 7,
      "metadata": {
        "pycharm": {}
      },
      "outputs": [
        {
          "name": "stdout",
          "output_type": "stream",
          "text": [
            "Glove:\n",
            "tensor([ 0.2523,  0.1018, -0.6748,  0.2112,  0.4349,  0.1654,  0.4826, -0.8122,\n",
            "         0.0413,  0.7850, -0.0779, -0.6632,  0.1464, -0.2929, -0.2549,  0.0193,\n",
            "        -0.2026,  0.9823,  0.0283, -0.0813, -0.1214,  0.1313, -0.1765,  0.1356,\n",
            "        -0.1636, -0.2257,  0.0550, -0.2031,  0.2072,  0.0958,  0.2248,  0.2154,\n",
            "        -0.3298, -0.1224, -0.4003, -0.0794, -0.1996, -0.0151, -0.0791, -0.1813,\n",
            "         0.2068, -0.3620, -0.3074, -0.2442, -0.2311,  0.0980,  0.1463, -0.0627,\n",
            "         0.4293, -0.0780, -0.1963,  0.6509, -0.2281, -0.3031, -0.1248, -0.1757,\n",
            "        -0.1465,  0.1536, -0.2952,  0.1510, -0.5173, -0.0336, -0.2311, -0.7833,\n",
            "         0.0180, -0.1572,  0.0229,  0.4964,  0.0292,  0.0567,  0.1462, -0.1919,\n",
            "         0.1624,  0.2390,  0.3643,  0.4526,  0.2456,  0.2380,  0.3140,  0.3487,\n",
            "        -0.0358,  0.5611, -0.2535,  0.0520, -0.1062, -0.3096,  1.0585, -0.4202,\n",
            "         0.1822, -0.1126,  0.4058,  0.1178, -0.1971, -0.0753,  0.0807, -0.0278,\n",
            "        -0.1562, -0.4468, -0.1516,  0.1692,  0.0983, -0.0319,  0.0871,  0.2608,\n",
            "         0.0027,  0.1319,  0.3444, -0.3789, -0.4114,  0.0816, -0.1167, -0.4371,\n",
            "         0.0111,  0.0994,  0.2661,  0.4002,  0.1890, -0.1844, -0.3036, -0.2725,\n",
            "         0.2247, -0.4061,  0.1562, -0.1604,  0.4715,  0.0080,  0.5686,  0.2193,\n",
            "        -0.1118,  0.7993,  0.1071, -0.5015,  0.0636,  0.0695,  0.1529, -0.2747,\n",
            "        -0.2099,  0.2074, -0.1068,  0.4065, -2.6438, -0.3114, -0.3216, -0.2646,\n",
            "        -0.3562,  0.0700, -0.1884,  0.4877, -0.2617, -0.0208,  0.1782,  0.1576,\n",
            "        -0.1375,  0.0565,  0.3077, -0.0661,  0.4748, -0.2734,  0.0973, -0.2083,\n",
            "         0.0039,  0.3460, -0.0870, -0.5492, -0.1876, -0.1717,  0.0603, -0.1352,\n",
            "         0.1042,  0.3016,  0.0580,  0.2187, -0.0736, -0.2042, -0.2528, -0.1047,\n",
            "        -0.3216,  0.1252, -0.3128,  0.0097, -0.2678, -0.6112, -0.1109, -0.1365,\n",
            "         0.0351, -0.4939,  0.0849, -0.1549, -0.0635, -0.2394,  0.2827,  0.1085,\n",
            "        -0.3365, -0.6076,  0.3858, -0.0095,  0.1750, -0.5272,  0.6221,  0.1954,\n",
            "        -0.4898,  0.0366, -0.1280, -0.0168,  0.2565, -0.3170,  0.4826, -0.1418,\n",
            "         0.1105, -0.3098, -0.6314, -0.3727,  0.2318, -0.1427, -0.0234,  0.0223,\n",
            "        -0.0447, -0.1640, -0.2585,  0.1629,  0.0248,  0.2335,  0.2793,  0.3900,\n",
            "        -0.0590,  0.1135,  0.1567,  0.1858, -0.1981, -0.4812, -0.0351,  0.0785,\n",
            "        -0.4983,  0.1085, -0.2013,  0.0529, -0.1158, -0.1601,  0.1677,  0.4236,\n",
            "        -0.2311,  0.0825,  0.2430, -0.1679,  0.0080,  0.0859,  0.3803,  0.0730,\n",
            "         0.1633,  0.2470, -0.1109,  0.1512, -0.2207, -0.0619, -0.0371, -0.0879,\n",
            "        -0.2318,  0.1504, -0.1909, -0.1911, -0.1189,  0.0949, -0.0043,  0.1536,\n",
            "        -0.4120, -0.3073,  0.1838,  0.4021, -0.0035, -0.1092, -0.6952,  0.1016,\n",
            "        -0.0793,  0.4033,  0.2228, -0.1937, -0.1331,  0.0732,  0.0998,  0.1169,\n",
            "        -0.2164, -0.1108,  0.1034,  0.0973,  0.1120, -0.3894, -0.0089,  0.2881,\n",
            "        -0.1079,  0.0288,  0.3255,  0.2605, -0.0389,  0.0752,  0.4603, -0.0629,\n",
            "         0.2166,  0.1787, -0.5192,  0.3359])\n"
          ]
        }
      ],
      "source": [
        "vectors \u003d GloVe()\n",
        "print(\u0027Glove:\u0027)\n",
        "print(vectors[\u0027hello\u0027])"
      ]
    },
    {
      "cell_type": "markdown",
      "metadata": {
        "pycharm": {}
      },
      "source": "## 9.2 RNN原理\n\n$$ h_t \u003d f_W(h_{t-1},x_t) \\\\ \\downarrow $$\n\n$$ h_t \u003d \\tanh (W_{hh}h_{t-1} + W_{xh}x_t) $$\n$$ y_t \u003d W_{hy}h_t $$"
    },
    {
      "cell_type": "markdown",
      "metadata": {
        "pycharm": {}
      },
      "source": [
        "## 9.3 RNN Layer 使用"
      ]
    },
    {
      "cell_type": "code",
      "execution_count": 9,
      "metadata": {
        "pycharm": {}
      },
      "outputs": [
        {
          "data": {
            "text/plain": [
              "odict_keys([\u0027weight_ih_l0\u0027, \u0027weight_hh_l0\u0027, \u0027bias_ih_l0\u0027, \u0027bias_hh_l0\u0027])"
            ]
          },
          "execution_count": 9,
          "metadata": {},
          "output_type": "execute_result"
        }
      ],
      "source": [
        "rnn \u003d nn.RNN(100,10) # 100:word dim 10:h\n",
        "rnn._parameters.keys()"
      ]
    },
    {
      "cell_type": "code",
      "execution_count": 11,
      "metadata": {
        "pycharm": {}
      },
      "outputs": [
        {
          "name": "stdout",
          "output_type": "stream",
          "text": [
            "weight_ih: torch.Size([10, 100])\n",
            "weight_hh: torch.Size([10, 10])\n",
            "bias_ih:   torch.Size([10])\n",
            "bias_hh:   torch.Size([10])\n"
          ]
        }
      ],
      "source": [
        "print(\u0027weight_ih:\u0027,rnn.weight_ih_l0.shape)\n",
        "print(\u0027weight_hh:\u0027,rnn.weight_hh_l0.shape)\n",
        "print(\u0027bias_ih:  \u0027,rnn.bias_ih_l0.shape)\n",
        "print(\u0027bias_hh:  \u0027,rnn.bias_hh_l0.shape)"
      ]
    },
    {
      "cell_type": "markdown",
      "metadata": {
        "pycharm": {}
      },
      "source": [
        "### nn.RNN\n",
        "\n",
        "- \\_\\_init\\_\\_ :\n",
        " - **input_size** : The numbe of expected features in the input x\n",
        " - **hidden_size** : The number of features in the hidden state h\n",
        " - **num_layers** : Number of recurrent layers. E.g., setting num_layers\u003d2 would mean stacking two RNNs together to form a stacked RNN, with the second RNN taking in outputs of the first RNN and computing the final results. Default:1\n",
        "- out, ht \u003d forward(x,h0)\n",
        " - x:[seq len, b, word vec]\n",
        " - ho/ht:[num layers, b, h dim]\n",
        " - out:[seq len, b, h dim]\n",
        " "
      ]
    },
    {
      "cell_type": "markdown",
      "metadata": {
        "pycharm": {}
      },
      "source": [
        "#### 1 layer RNN"
      ]
    },
    {
      "cell_type": "code",
      "execution_count": 22,
      "metadata": {
        "pycharm": {}
      },
      "outputs": [
        {
          "name": "stdout",
          "output_type": "stream",
          "text": [
            "RNN(100, 20)\n",
            "out.shape:  torch.Size([10, 3, 20])\n",
            "h.shape:  torch.Size([1, 3, 20])\n"
          ]
        }
      ],
      "source": [
        "rnn \u003d nn.RNN(input_size\u003d100, hidden_size\u003d20, num_layers\u003d1)\n",
        "print(rnn)\n",
        "x \u003d torch.randn(10,3,100)\n",
        "out, h \u003d rnn(x, torch.zeros(1,3,20))\n",
        "print(\u0027out.shape: \u0027,out.shape)\n",
        "print(\u0027h.shape: \u0027,h.shape)\n"
      ]
    },
    {
      "cell_type": "markdown",
      "metadata": {
        "pycharm": {}
      },
      "source": [
        "#### 2 layers RNN"
      ]
    },
    {
      "cell_type": "code",
      "execution_count": 23,
      "metadata": {
        "pycharm": {}
      },
      "outputs": [
        {
          "name": "stdout",
          "output_type": "stream",
          "text": [
            "odict_keys([\u0027weight_ih_l0\u0027, \u0027weight_hh_l0\u0027, \u0027bias_ih_l0\u0027, \u0027bias_hh_l0\u0027, \u0027weight_ih_l1\u0027, \u0027weight_hh_l1\u0027, \u0027bias_ih_l1\u0027, \u0027bias_hh_l1\u0027])\n",
            "rnn.weight_hh_l0.shape:  torch.Size([10, 10])\n",
            "rnn.weight_ih_l0.shape:  torch.Size([10, 100])\n",
            "rnn.weight_hh_l1.shape:  torch.Size([10, 10])\n",
            "rnn.weight_ih_l1.shape:  torch.Size([10, 10])\n"
          ]
        }
      ],
      "source": [
        "rnn \u003d nn.RNN(100,10,num_layers\u003d2)\n",
        "print(rnn._parameters.keys())\n",
        "print(\u0027rnn.weight_hh_l0.shape: \u0027,rnn.weight_hh_l0.shape)\n",
        "print(\u0027rnn.weight_ih_l0.shape: \u0027,rnn.weight_ih_l0.shape)\n",
        "print(\u0027rnn.weight_hh_l1.shape: \u0027,rnn.weight_hh_l1.shape)\n",
        "print(\u0027rnn.weight_ih_l1.shape: \u0027,rnn.weight_ih_l1.shape)"
      ]
    },
    {
      "cell_type": "code",
      "execution_count": 24,
      "metadata": {
        "pycharm": {}
      },
      "outputs": [
        {
          "name": "stdout",
          "output_type": "stream",
          "text": [
            "RNN(100, 10, num_layers\u003d2)\n",
            "out.shape:  torch.Size([10, 3, 10])\n",
            "h.shape:  torch.Size([2, 3, 10])\n"
          ]
        }
      ],
      "source": [
        "print(rnn)\n",
        "x \u003d torch.randn(10,3,100,)\n",
        "out,h \u003d rnn(x,torch.zeros(2,3,10))\n",
        "print(\u0027out.shape: \u0027,out.shape)\n",
        "print(\u0027h.shape: \u0027,h.shape)"
      ]
    },
    {
      "cell_type": "markdown",
      "metadata": {
        "pycharm": {}
      },
      "source": [
        "### nn.RNNCell\n",
        "- \\_\\_init\\_\\_:\n",
        " - **input_size** \n",
        " - **hidden_size**  \n",
        " - **num_layers** \n",
        " \n",
        "- ht \u003d rnncell(xt, ht_1)\n",
        " - xt:[b, word vec]\n",
        " - ht_1/ht: [num layers,b, h dim]\n",
        " - out \u003d torch.stack([h1,h2,...,ht]\n",
        " \n",
        " #### 1 layer"
      ]
    },
    {
      "cell_type": "code",
      "execution_count": 29,
      "metadata": {
        "pycharm": {}
      },
      "outputs": [
        {
          "name": "stdout",
          "output_type": "stream",
          "text": [
            "odict_keys([\u0027weight_ih\u0027, \u0027weight_hh\u0027, \u0027bias_ih\u0027, \u0027bias_hh\u0027])\n",
            "torch.Size([3, 20])\n"
          ]
        }
      ],
      "source": [
        "cell_1 \u003d nn.RNNCell(100,20)\n",
        "x \u003d torch.randn(10,3,100)\n",
        "h1 \u003d torch.zeros(3,20)\n",
        "print(cell_1._parameters.keys())\n",
        "for xt in x:\n",
        "    h1 \u003d cell_1(xt,h1)\n",
        "print(h1.shape)\n"
      ]
    },
    {
      "cell_type": "markdown",
      "metadata": {
        "pycharm": {}
      },
      "source": [
        "#### 2 layers"
      ]
    },
    {
      "cell_type": "code",
      "execution_count": 30,
      "metadata": {
        "pycharm": {}
      },
      "outputs": [
        {
          "name": "stdout",
          "output_type": "stream",
          "text": [
            "h2.shape:  torch.Size([3, 20])\n"
          ]
        }
      ],
      "source": [
        "cell1 \u003d nn.RNNCell(100,30)\n",
        "cell2 \u003d nn.RNNCell(30,20)\n",
        "h1 \u003d torch.zeros(3,30)\n",
        "h2 \u003d torch.zeros(3,20)\n",
        "x \u003d torch.randn(10,3,100)\n",
        "\n",
        "for x_t in x:\n",
        "    h1 \u003d cell1(x_t,h1)\n",
        "    h2 \u003d cell2(h1,h2)\n",
        "print(\u0027h2.shape: \u0027,h2.shape)\n",
        "\n"
      ]
    },
    {
      "cell_type": "markdown",
      "metadata": {
        "pycharm": {}
      },
      "source": [
        "## 9.4 实践序列预测实战"
      ]
    },
    {
      "cell_type": "code",
      "execution_count": 53,
      "metadata": {
        "pycharm": {}
      },
      "outputs": [],
      "source": [
        "num_time_steps \u003d 50\n",
        "input_size\u003d1\n",
        "hidden_size\u003d16\n",
        "output_size \u003d 1\n",
        "\n",
        "\n",
        "class Net(nn.Module):\n",
        "    def __init__(self):\n",
        "        super(Net,self).__init__()\n",
        "        self.rnn \u003d nn.RNN(\n",
        "            input_size \u003d input_size,\n",
        "            hidden_size \u003d hidden_size,\n",
        "            num_layers\u003d1,\n",
        "            batch_first\u003dTrue,\n",
        "        )\n",
        "        for p in self.rnn.parameters():\n",
        "            nn.init.normal(p,mean\u003d0.0,std\u003d0.001)\n",
        "            \n",
        "        self.linear \u003d nn.Linear(hidden_size,output_size)\n",
        "        \n",
        "    def forward(self,x,hidden_prev):\n",
        "        out, hidden_prev \u003d self.rnn(x,hidden_prev)\n",
        "        # [1,seq,h] -\u003e [seq,h]\n",
        "        out \u003d out.view(-1,hidden_size)\n",
        "        out \u003d self.linear(out) # [seq,h] -\u003e [seq,1]\n",
        "        out \u003d out.unsqueeze(dim\u003d0) # [1,seq,1]\n",
        "        return out,hidden_prev"
      ]
    },
    {
      "cell_type": "code",
      "execution_count": 57,
      "metadata": {
        "pycharm": {}
      },
      "outputs": [
        {
          "name": "stdout",
          "output_type": "stream",
          "text": [
            "Iteration: 0 loss 0.600734293460846\n",
            "Iteration: 100 loss 0.008353039622306824\n",
            "Iteration: 200 loss 0.001920293434523046\n",
            "Iteration: 300 loss 0.0005269499379210174\n",
            "Iteration: 400 loss 0.0003123287169728428\n",
            "Iteration: 500 loss 0.001031182357110083\n",
            "Iteration: 600 loss 0.0015427361940965056\n",
            "Iteration: 700 loss 0.0012392712524160743\n",
            "Iteration: 800 loss 0.00013216763909440488\n",
            "Iteration: 900 loss 0.001414975617080927\n",
            "Iteration: 1000 loss 0.0016003549098968506\n",
            "Iteration: 1100 loss 0.00019352202070876956\n",
            "Iteration: 1200 loss 0.00025170683511532843\n",
            "Iteration: 1300 loss 0.0006312616751529276\n",
            "Iteration: 1400 loss 0.00028045018552802503\n",
            "Iteration: 1500 loss 0.000212494982406497\n",
            "Iteration: 1600 loss 0.0009795314399525523\n",
            "Iteration: 1700 loss 0.0008050113683566451\n",
            "Iteration: 1800 loss 0.0006047850474715233\n",
            "Iteration: 1900 loss 0.0004544451949186623\n",
            "Iteration: 2000 loss 0.0002742959768511355\n",
            "Iteration: 2100 loss 0.0003964266797993332\n",
            "Iteration: 2200 loss 0.0004026401729788631\n",
            "Iteration: 2300 loss 0.00019275702652521431\n",
            "Iteration: 2400 loss 0.0006781411939300597\n",
            "Iteration: 2500 loss 7.082185038598254e-05\n",
            "Iteration: 2600 loss 0.0008668698719702661\n",
            "Iteration: 2700 loss 0.00012689258437603712\n",
            "Iteration: 2800 loss 0.00020462113025132567\n",
            "Iteration: 2900 loss 0.0007325196638703346\n",
            "Iteration: 3000 loss 0.0001057238841895014\n",
            "Iteration: 3100 loss 0.0001864758669398725\n",
            "Iteration: 3200 loss 0.0002569778880570084\n",
            "Iteration: 3300 loss 0.00028826083871535957\n",
            "Iteration: 3400 loss 0.00018220511265099049\n",
            "Iteration: 3500 loss 0.00021232142171356827\n",
            "Iteration: 3600 loss 0.0003035221016034484\n",
            "Iteration: 3700 loss 0.0003028735227417201\n",
            "Iteration: 3800 loss 0.00018104395712725818\n",
            "Iteration: 3900 loss 0.00011169500066898763\n",
            "Iteration: 4000 loss 0.0002005154819926247\n",
            "Iteration: 4100 loss 0.0006324108107946813\n",
            "Iteration: 4200 loss 0.0002410846936982125\n",
            "Iteration: 4300 loss 7.328506762860343e-05\n",
            "Iteration: 4400 loss 0.0004535834304988384\n",
            "Iteration: 4500 loss 0.00014564229059033096\n",
            "Iteration: 4600 loss 0.00012663289089687169\n",
            "Iteration: 4700 loss 0.000517810694873333\n",
            "Iteration: 4800 loss 0.0008770974236540496\n",
            "Iteration: 4900 loss 0.0004657346289604902\n",
            "Iteration: 5000 loss 0.00017601439321879297\n",
            "Iteration: 5100 loss 0.00028075044974684715\n",
            "Iteration: 5200 loss 0.0001447586837457493\n",
            "Iteration: 5300 loss 0.0001118880754802376\n",
            "Iteration: 5400 loss 0.00021311650925781578\n",
            "Iteration: 5500 loss 9.979639435186982e-05\n",
            "Iteration: 5600 loss 0.00031012858380563557\n",
            "Iteration: 5700 loss 0.00030340798548422754\n",
            "Iteration: 5800 loss 0.00015873128722887486\n",
            "Iteration: 5900 loss 0.00031939728069119155\n"
          ]
        },
        {
          "data": {
            "image/png": "[encoded data removed]",
            "text/plain": [
              "\u003cFigure size 432x288 with 1 Axes\u003e"
            ]
          },
          "metadata": {
            "needs_background": "light"
          },
          "output_type": "display_data"
        }
      ],
      "source": [
        "model \u003d Net()\n",
        "criterion \u003d nn.MSELoss()\n",
        "optimizer \u003d optim.Adam(model.parameters(),lr\u003d1e-2)\n",
        "hidden_prev \u003d torch.zeros(1,1,hidden_size) # h0\n",
        "\n",
        "for iter in range(6000):\n",
        "    start \u003d np.random.randint(3,size\u003d1)[0]  # random in [0,3)\n",
        "    time_steps \u003d np.linspace(start,start+10,num_time_steps)\n",
        "    data \u003d np.sin(time_steps)\n",
        "    data \u003d data.reshape(num_time_steps,1)\n",
        "    x \u003d torch.tensor(data[:-1]).float().view(1,num_time_steps-1,1) # 0~48\n",
        "    y \u003d torch.tensor(data[1:]).float().view(1,num_time_steps-1,1) # 预测1~49\n",
        "    \n",
        "    output,hidden_prev \u003d model(x,hidden_prev)\n",
        "    hidden_prev \u003d hidden_prev.detach()\n",
        "    \n",
        "    loss \u003d criterion(output,y)\n",
        "    model.zero_grad()\n",
        "    loss.backward()\n",
        "    optimizer.step()\n",
        "    \n",
        "    if iter%100 \u003d\u003d 0:\n",
        "        print(\u0027Iteration: {} loss {}\u0027.format(iter,loss.item()))\n",
        "\n",
        "        \n",
        "        \n",
        "start \u003d np.random.randint(3,size\u003d1)[0]  # random in [0,3)\n",
        "time_steps \u003d np.linspace(start,start+10,num_time_steps)\n",
        "data \u003d np.sin(time_steps)\n",
        "data \u003d data.reshape(num_time_steps,1)\n",
        "x \u003d torch.tensor(data[:-1]).float().view(1,num_time_steps-1,1) # 0~48\n",
        "y \u003d torch.tensor(data[1:]).float().view(1,num_time_steps-1,1) # 预测1~49\n",
        "\n",
        "predictions \u003d []\n",
        "input \u003d x[:,0,:]\n",
        "for _ in range(x.shape[1]):\n",
        "    input \u003d input.view(1,1,1)\n",
        "    (pred,hidden_prev) \u003d model(input,hidden_prev)\n",
        "    input \u003d pred\n",
        "    predictions.append(pred.detach().numpy().ravel()[0])\n",
        "\n",
        "\n",
        "x \u003d x.data.numpy().ravel()\n",
        "y \u003d y.data.numpy()\n",
        "plt.scatter(time_steps[:-1],x.ravel(),s\u003d90)\n",
        "plt.plot(time_steps[:-1],x.ravel())\n",
        "\n",
        "plt.scatter(time_steps[1:],predictions)\n",
        "plt.show()"
      ]
    },
    {
      "cell_type": "code",
      "execution_count": null,
      "metadata": {
        "pycharm": {}
      },
      "outputs": [],
      "source": []
    },
    {
      "cell_type": "code",
      "execution_count": null,
      "metadata": {
        "pycharm": {}
      },
      "outputs": [],
      "source": []
    }
  ],
  "metadata": {
    "kernelspec": {
      "display_name": "Python 3.5.6 64-bit (\u0027base\u0027: conda)",
      "language": "python",
      "name": "python35664bitbaseconda34414b764a4544e4b3502fc9f239efc6"
    },
    "language_info": {
      "codemirror_mode": {
        "name": "ipython",
        "version": 3
      },
      "file_extension": ".py",
      "mimetype": "text/x-python",
      "name": "python",
      "nbconvert_exporter": "python",
      "pygments_lexer": "ipython3",
      "version": "3.5.6"
    },
    "latex_envs": {
      "LaTeX_envs_menu_present": true,
      "autoclose": false,
      "autocomplete": true,
      "bibliofile": "biblio.bib",
      "cite_by": "apalike",
      "current_citInitial": 1,
      "eqLabelWithNumbers": true,
      "eqNumInitial": 1,
      "hotkeys": {
        "equation": "Ctrl-E",
        "itemize": "Ctrl-I"
      },
      "labels_anchors": false,
      "latex_user_defs": false,
      "report_style_numbering": false,
      "user_envs_cfg": false
    },
    "varInspector": {
      "cols": {
        "lenName": 16,
        "lenType": 16,
        "lenVar": 40
      },
      "kernels_config": {
        "python": {
          "delete_cmd_postfix": "",
          "delete_cmd_prefix": "del ",
          "library": "var_list.py",
          "varRefreshCmd": "print(var_dic_list())"
        },
        "r": {
          "delete_cmd_postfix": ") ",
          "delete_cmd_prefix": "rm(",
          "library": "var_list.r",
          "varRefreshCmd": "cat(var_dic_list()) "
        }
      },
      "types_to_exclude": [
        "module",
        "function",
        "builtin_function_or_method",
        "instance",
        "_Feature"
      ],
      "window_display": false
    }
  },
  "nbformat": 4,
  "nbformat_minor": 2
}