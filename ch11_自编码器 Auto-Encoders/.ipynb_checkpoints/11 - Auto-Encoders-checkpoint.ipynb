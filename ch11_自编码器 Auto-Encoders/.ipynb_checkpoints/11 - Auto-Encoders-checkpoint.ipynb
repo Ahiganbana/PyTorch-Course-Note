{
 "cells": [
  {
   "cell_type": "markdown",
   "metadata": {},
   "source": [
    "# 11.1 - Auto-Encoder原理\n"
   ]
  },
  {
   "attachments": {},
   "cell_type": "markdown",
   "metadata": {},
   "source": [
    "<img src=\"images/1.png\" style=\"zoom:70%\" />\n",
    "\n",
    "- 可以将目标输出当作自己本身\n",
    "- 可以把 Encoder+Code+Decoder 理解成一个神经网络\n",
    "- 从784维降维到2维，易于可视化\n",
    "\n",
    "<br><br>\n",
    "## How to Train?\n",
    "- loss function for **binary** inputs?\n",
    "$$ l \\space (f(x)) = - \\sum_k{x_k \\log(\\hat{x_k}) + (1-x_k) \\log (1-\\hat{x_k}) }$$\n",
    "Cross-Entropy error function (reconstruction loss)  $\\space \\space f(x) \\equiv \\hat{x}$\n",
    "<br>\n",
    "- Loss function for **real-valued** inputs\n",
    "$$l \\space (f(x)) = \\frac{1}{2} \\sum_k{ (\\hat{x_k} - x_k)^2}$$\n",
    " - sum of squared differences (reconstruction loss)\n",
    " - we use a linear activation function at the output\n",
    "\n",
    "<br><br>\n",
    "\n",
    "## PCA V.S. Auto-Encoders\n",
    "- PCA, which finds the directions of maximal variance in high-dimentsional data, select only those axes that have the largest variance.\n",
    "- The linearity of PCA, however, places significant limitations on the kinds of feature dimentsions that can be extracted.\n",
    "<br><br>\n",
    "#### 降维后再重建的效果图\n",
    "<img src=\"images/2.png\" style=\"zoom:70%\" />\n",
    "\n",
    "<br><br>\n",
    "\n",
    "# 11.2 - Auto-Encoders变种\n",
    "\n",
    "## 变种一：Denoising AutoEncoders\n",
    "<img src=\"images/3.png\" style=\"zoom:70%\" />\n",
    "\n",
    "<br><br>\n",
    "## 变种二：Dropout Auto-Encoders\n",
    "<img src=\"images/4.png\" style=\"zoom:70%\" />\n",
    "\n",
    "<br><br>\n",
    "## 变种三：Adversarial AutoEncoders\n",
    "- Distribution of hidden code\n",
    "<img src=\"images/5.png\" style=\"zoom:70%\" />\n",
    "<br>\n",
    "- Give more details after GAN\n",
    "<img src=\"images/6.png\" style=\"zoom:70%\" />\n"
   ]
  },
  {
   "cell_type": "code",
   "execution_count": null,
   "metadata": {},
   "outputs": [],
   "source": []
  },
  {
   "cell_type": "code",
   "execution_count": null,
   "metadata": {},
   "outputs": [],
   "source": []
  },
  {
   "cell_type": "code",
   "execution_count": null,
   "metadata": {},
   "outputs": [],
   "source": []
  }
 ],
 "metadata": {
  "kernelspec": {
   "display_name": "Python 3",
   "language": "python",
   "name": "python3"
  },
  "language_info": {
   "codemirror_mode": {
    "name": "ipython",
    "version": 3
   },
   "file_extension": ".py",
   "mimetype": "text/x-python",
   "name": "python",
   "nbconvert_exporter": "python",
   "pygments_lexer": "ipython3",
   "version": "3.7.0"
  },
  "stem_cell": {
   "cell_type": "raw",
   "metadata": {
    "pycharm": {
     "metadata": false
    }
   },
   "source": ""
  },
  "varInspector": {
   "cols": {
    "lenName": 16,
    "lenType": 16,
    "lenVar": 40
   },
   "kernels_config": {
    "python": {
     "delete_cmd_postfix": "",
     "delete_cmd_prefix": "del ",
     "library": "var_list.py",
     "varRefreshCmd": "print(var_dic_list())"
    },
    "r": {
     "delete_cmd_postfix": ") ",
     "delete_cmd_prefix": "rm(",
     "library": "var_list.r",
     "varRefreshCmd": "cat(var_dic_list()) "
    }
   },
   "types_to_exclude": [
    "module",
    "function",
    "builtin_function_or_method",
    "instance",
    "_Feature"
   ],
   "window_display": false
  }
 },
 "nbformat": 4,
 "nbformat_minor": 1
}
