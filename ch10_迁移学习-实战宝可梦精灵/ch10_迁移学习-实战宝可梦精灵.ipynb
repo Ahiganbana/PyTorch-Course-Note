{
 "cells": [
  {
   "cell_type": "markdown",
   "metadata": {},
   "source": [
    "# ch10_迁移学习-实战宝可梦精灵"
   ]
  },
  {
   "cell_type": "markdown",
   "metadata": {},
   "source": [
    "## 10.1 Pokemon数据集\n",
    "\n",
    "- 数据集内容:\n",
    " - 皮卡丘:234\n",
    " - 超梦:239\n",
    " - 杰尼龟:223\n",
    " - 小火龙:238\n",
    " - 妙蛙种子:234\n",
    "\n",
    "- 数据集划分:\n",
    " - Train 60%:138\n",
    " - Validation 20%:46\n",
    " - Test 20%:46\n",
    " "
   ]
  },
  {
   "cell_type": "markdown",
   "metadata": {},
   "source": [
    "### Steps:\n",
    "#### 1.Load data\n",
    "- Inherit from torch.utils.data.Dataset\n",
    "- \\_\\_len\\_\\_\n",
    "- \\_\\_getitem\\_\\_\n",
    " \n",
    " ```Python\n",
    "class NumbersDataset(Dataset):\n",
    "    def __init__(self,training=True):\n",
    "        if trainning:\n",
    "            self.samples = list(range(1,1001))\n",
    "        else:\n",
    "            self.samples = list(range(1001,1501))\n",
    "    \n",
    "    def __len__(self):\n",
    "        return len(self.samples)\n",
    "    \n",
    "    def __getitem__(self,idx):\n",
    "        return self.samples[idx]\n",
    "```\n",
    "- Preprocessing:\n",
    " - Image Resize \n",
    "   - 224x224 for ResNet18\n",
    " - Data Argumentation\n",
    "   - Rotate\n",
    "   - Crop\n",
    " - Normalize\n",
    "   - Mean,Std\n",
    " - ToTensor\n",
    " \n",
    "#### 2.Build model\n",
    "#### 3.Train and Test\n",
    "\n",
    "```Python\n",
    "for epoch in range(epochs):\n",
    "    train(train_db):\n",
    "        if epoch%10 == 0:\n",
    "            val_acc = evaluate(val_db)\n",
    "            if val_acc is the best:\n",
    "                save_checkpoint()\n",
    "            if out_of_patience():\n",
    "                break\n",
    "load_checkpoint()\n",
    "test_acc = evaluate(test_db)\n",
    "```\n",
    "\n",
    "\n",
    "#### 4.Transfer Learning\n",
    "  \n",
    "  "
   ]
  },
  {
   "cell_type": "code",
   "execution_count": 2,
   "metadata": {},
   "outputs": [],
   "source": [
    "import torch\n",
    "from torch import optim"
   ]
  },
  {
   "cell_type": "code",
   "execution_count": null,
   "metadata": {},
   "outputs": [],
   "source": [
    "torch.optim.Adam()"
   ]
  }
 ],
 "metadata": {
  "kernelspec": {
   "display_name": "Python 3.5.6 64-bit ('base': conda)",
   "language": "python",
   "name": "python35664bitbaseconda34414b764a4544e4b3502fc9f239efc6"
  },
  "language_info": {
   "codemirror_mode": {
    "name": "ipython",
    "version": 3
   },
   "file_extension": ".py",
   "mimetype": "text/x-python",
   "name": "python",
   "nbconvert_exporter": "python",
   "pygments_lexer": "ipython3",
   "version": "3.5.6"
  },
  "latex_envs": {
   "LaTeX_envs_menu_present": true,
   "autoclose": false,
   "autocomplete": true,
   "bibliofile": "biblio.bib",
   "cite_by": "apalike",
   "current_citInitial": 1,
   "eqLabelWithNumbers": true,
   "eqNumInitial": 1,
   "hotkeys": {
    "equation": "Ctrl-E",
    "itemize": "Ctrl-I"
   },
   "labels_anchors": false,
   "latex_user_defs": false,
   "report_style_numbering": false,
   "user_envs_cfg": false
  },
  "varInspector": {
   "cols": {
    "lenName": 16,
    "lenType": 16,
    "lenVar": 40
   },
   "kernels_config": {
    "python": {
     "delete_cmd_postfix": "",
     "delete_cmd_prefix": "del ",
     "library": "var_list.py",
     "varRefreshCmd": "print(var_dic_list())"
    },
    "r": {
     "delete_cmd_postfix": ") ",
     "delete_cmd_prefix": "rm(",
     "library": "var_list.r",
     "varRefreshCmd": "cat(var_dic_list()) "
    }
   },
   "types_to_exclude": [
    "module",
    "function",
    "builtin_function_or_method",
    "instance",
    "_Feature"
   ],
   "window_display": false
  }
 },
 "nbformat": 4,
 "nbformat_minor": 2
}
