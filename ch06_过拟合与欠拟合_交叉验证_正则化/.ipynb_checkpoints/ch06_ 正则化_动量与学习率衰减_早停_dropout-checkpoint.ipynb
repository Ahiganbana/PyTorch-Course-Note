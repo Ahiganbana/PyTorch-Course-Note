{
 "cells": [
  {
   "cell_type": "markdown",
   "metadata": {},
   "source": [
    "# ch06_ 正则化_动量与学习率衰减_早停_dropout"
   ]
  },
  {
   "cell_type": "markdown",
   "metadata": {},
   "source": [
    "\n",
    "## Reduce Overfitting\n",
    "- Mode Data\n",
    "- Constrain model complexity\n",
    " - shallow\n",
    " - regularization\n",
    "- Dropout\n",
    "- Data argumentation\n",
    "- Early Stopping\n",
    "\n",
    "## 6.3 Regularization 正则化 ( Weigh Decay)\n",
    "\n",
    "$$ J(\\theta) = - \\frac{1}{m} \\sum_{i=1}^{m} \\left [y_i \\ln \\hat{y_i} + (1-y_i)\\ln (1-\\hat{y_i} \\right ] + \\lambda \\sum_{i=1}^n \\left | \\theta_i \\right |$$\n",
    "\n",
    "\n",
    "- **L1-Regularization:**\n",
    "\n",
    "$$J(\\theta) = - \\frac{1}{m} \\sum_{i=1}^m \\left [ y_i \\ln \\hat{y_i} + (1-y_i)\\ln (1- \\hat{y_i} \\right | + \\lambda \\sum_n^{i=1}\\left | \\theta_i \\right |$$\n",
    "\n",
    "```Python\n",
    "regularization_loss = 0\n",
    "for param in model.parameters():\n",
    "    regularization_loss += torch.sum(torch.abs(param))\n",
    "    \n",
    "classify_loss = criteon(logits,target)\n",
    "loss = classify_loss + 0.01 * regularization_loss\n",
    "\n",
    "optimizer.zero_grad()\n",
    "loss.backward()\n",
    "optimizer.step()\n",
    "\n",
    "```\n",
    "\n",
    "\n",
    "- **L2-Regularization:**\n",
    "\n",
    "$$J(W;X,y) + \\frac {1}{2} \\lambda \\cdot {\\left \\| W \\right \\|}^2$$\n",
    "\n",
    "\n",
    "```Python\n",
    "optimizer = optim.SGD(net.parameters(),lr=learning_rate,weight_decay=0.01)\n",
    "```\n",
    "$\\lambda$ = 0.01\n",
    "\n"
   ]
  },
  {
   "cell_type": "markdown",
   "metadata": {},
   "source": [
    "## 6.4 动量与学习率衰减\n",
    "\n",
    "#### Momentum :\n",
    "\n",
    "$$\n",
    "w^{k+1} = w^k - \\alpha \\nabla f(w^k) \\\\\n",
    "        \\Downarrow \\\\\n",
    "z^{k+1} = \\beta z^k + \\nabla f(w^k) \\\\\n",
    "w^{k+1} = w^k - \\alpha z^{k+1}\n",
    "$$\n",
    "\n",
    "\n",
    "```Python\n",
    "\n",
    "optimizer = torch.optim.SGD(model.parameters(),args.lr,\n",
    "                            momentum = args.momentum,\n",
    "                            weight_decay = args.weight_decay)\n",
    "scheduler = ReduceLROnPlateau(optimizer,'min')\n",
    "\n",
    "for epoch in xrange(args.start_epoch,args.epoches):\n",
    "    train(train_loader,model,criterion,optimizer,opoch)\n",
    "    result_avg,loss_val = validate(val_loader,model,criterion,epoch)\n",
    "    scheduler.step(loss_val)\n",
    "    \n",
    "    \n",
    "```\n",
    "\n",
    "#### learning rate decay :\n",
    "\n",
    "```Python\n",
    "\n",
    "# Assuming optimizer uses lr = 0.05 for all groups\n",
    "# lr = 0.05  if epoch < 30\n",
    "# lr = 0.005 if 30 <= epoch < 60\n",
    "# lr = 0.0005 if 60 <= epoch < 90\n",
    "scheduler = StepLR(optimier,step_size = 30, gamma=0.1)\n",
    "for epoch in range(100):\n",
    "    scheduler.step()\n",
    "    train(...)\n",
    "    validate(...)\n",
    "```\n",
    "\n"
   ]
  },
  {
   "cell_type": "markdown",
   "metadata": {},
   "source": [
    "## 6.5 Early Stopping , Dropout , Stochastic Gradient Descent\n",
    "\n",
    "### Early Stopping : How-To:\n",
    "- Validation set to select parameters\n",
    "- Monitor validation performance\n",
    "- Stop at the highest val performance\n",
    "\n",
    "\n",
    "### Dropout\n",
    "- Learning less to learn better\n",
    "- Each connection has p=[0,1] to lose \n",
    "\n",
    "- torch.nn.Dropout(p=droupout_prob) -> p\n",
    "- tf.nn.dropout(keep_prob) -> (1-p)\n",
    "\n",
    "#### 在val set 和 test set 中不使用dropout , net_dropped.eval()\n",
    "```Python\n",
    "for epoch in range(epoches):\n",
    "    net_dropped.eval()\n",
    "    for batch_idx, (data,target) in enumerate(train_loader):\n",
    "        ...\n",
    "        net_dropped.eval()\n",
    "        test_loss = 0\n",
    "        correct = 0\n",
    "        for data, target in test_loader:\n",
    "            ...\n",
    "\n",
    "```\n",
    "\n",
    "\n",
    "### Stochastic Gradient Descent (SGD)\n",
    "- Stochastic\n",
    " - not random!\n",
    "- Deterministic\n",
    "- 分批次进行梯度下降,每次进一个batch,显存没那么大,无法一次性装入所有数据\n"
   ]
  },
  {
   "cell_type": "code",
   "execution_count": null,
   "metadata": {},
   "outputs": [],
   "source": []
  }
 ],
 "metadata": {
  "kernelspec": {
   "display_name": "Python 3.5.6 64-bit ('base': conda)",
   "language": "python",
   "name": "python35664bitbaseconda34414b764a4544e4b3502fc9f239efc6"
  },
  "language_info": {
   "codemirror_mode": {
    "name": "ipython",
    "version": 3
   },
   "file_extension": ".py",
   "mimetype": "text/x-python",
   "name": "python",
   "nbconvert_exporter": "python",
   "pygments_lexer": "ipython3",
   "version": "3.5.6"
  },
  "latex_envs": {
   "LaTeX_envs_menu_present": true,
   "autoclose": false,
   "autocomplete": true,
   "bibliofile": "biblio.bib",
   "cite_by": "apalike",
   "current_citInitial": 1,
   "eqLabelWithNumbers": true,
   "eqNumInitial": 1,
   "hotkeys": {
    "equation": "Ctrl-E",
    "itemize": "Ctrl-I"
   },
   "labels_anchors": false,
   "latex_user_defs": false,
   "report_style_numbering": false,
   "user_envs_cfg": false
  },
  "varInspector": {
   "cols": {
    "lenName": 16,
    "lenType": 16,
    "lenVar": 40
   },
   "kernels_config": {
    "python": {
     "delete_cmd_postfix": "",
     "delete_cmd_prefix": "del ",
     "library": "var_list.py",
     "varRefreshCmd": "print(var_dic_list())"
    },
    "r": {
     "delete_cmd_postfix": ") ",
     "delete_cmd_prefix": "rm(",
     "library": "var_list.r",
     "varRefreshCmd": "cat(var_dic_list()) "
    }
   },
   "types_to_exclude": [
    "module",
    "function",
    "builtin_function_or_method",
    "instance",
    "_Feature"
   ],
   "window_display": false
  }
 },
 "nbformat": 4,
 "nbformat_minor": 2
}
